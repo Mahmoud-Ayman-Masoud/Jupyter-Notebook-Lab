{
 "cells": [
  {
   "cell_type": "markdown",
   "id": "758ad02b-9c4e-42c6-bda7-29ef74a613a8",
   "metadata": {},
   "source": [
    "# Data Science Tools and Ecosystem\n"
   ]
  },
  {
   "cell_type": "markdown",
   "id": "281ecfa5-14e5-46c8-a312-9f0e983d5849",
   "metadata": {},
   "source": [
    "In this notebook, Data Science Tools and Ecosystem are summarized."
   ]
  },
  {
   "cell_type": "markdown",
   "id": "a6a957e6-8856-4765-b423-e577f2f2f54c",
   "metadata": {},
   "source": [
    "__Objectives:__\n",
    "- List popular languages for Data Science\n",
    "- List popular libraries for Data Science\n",
    "- List populat tools for Data Science\n",
    "- Arithmetic equations "
   ]
  },
  {
   "cell_type": "markdown",
   "id": "73b9c436-3f81-44e0-9982-0105f0a03504",
   "metadata": {},
   "source": [
    "Some of the popular languages that Data Scientists use are:\n",
    "1. Python\n",
    "2. R\n",
    "3. Scala"
   ]
  },
  {
   "cell_type": "markdown",
   "id": "b0c4bb6b-af55-4eca-bf64-188a0647259c",
   "metadata": {},
   "source": [
    "Some of the commonly used libraries used by Data Scientists include:\n",
    "1. Pandas\n",
    "2. Numpy\n",
    "3. Matplotlib"
   ]
  },
  {
   "cell_type": "markdown",
   "id": "8b9094d8-3f48-457c-b87f-cdfcaeef15b9",
   "metadata": {},
   "source": [
    "| Data Science Tools |\n",
    "| ------------------ |\n",
    "| RStudio |\n",
    "| Jupyter Notebook |\n",
    "| Spyder |"
   ]
  },
  {
   "cell_type": "markdown",
   "id": "b15eae33-d484-4fb6-9603-daa0c923870a",
   "metadata": {},
   "source": [
    "### Below are a few examples of evaluating arithmetic expressions in Python"
   ]
  },
  {
   "cell_type": "code",
   "execution_count": 5,
   "id": "092c6836-8cbf-4ec1-b703-9b0d8d8186e6",
   "metadata": {},
   "outputs": [
    {
     "data": {
      "text/plain": [
       "17"
      ]
     },
     "execution_count": 5,
     "metadata": {},
     "output_type": "execute_result"
    }
   ],
   "source": [
    "# This is a simple arithmetic expression to multiply then add integers\n",
    "(3 * 4) + 5"
   ]
  },
  {
   "cell_type": "code",
   "execution_count": 7,
   "id": "ad494634-c943-4fc0-83ba-316a88729bbe",
   "metadata": {},
   "outputs": [
    {
     "data": {
      "text/plain": [
       "3.3333333333333335"
      ]
     },
     "execution_count": 7,
     "metadata": {},
     "output_type": "execute_result"
    }
   ],
   "source": [
    "# This will convert 200 minutes to hours by diving by 60\n",
    "200 / 60"
   ]
  },
  {
   "cell_type": "markdown",
   "id": "25c2a5ae-fd19-43c7-8988-4bcecfcb5395",
   "metadata": {},
   "source": [
    "## Author\n",
    "Mahmoud Ayman Masoud"
   ]
  }
 ],
 "metadata": {
  "kernelspec": {
   "display_name": "Python 3 (ipykernel)",
   "language": "python",
   "name": "python3"
  },
  "language_info": {
   "codemirror_mode": {
    "name": "ipython",
    "version": 3
   },
   "file_extension": ".py",
   "mimetype": "text/x-python",
   "name": "python",
   "nbconvert_exporter": "python",
   "pygments_lexer": "ipython3",
   "version": "3.12.8"
  }
 },
 "nbformat": 4,
 "nbformat_minor": 5
}
